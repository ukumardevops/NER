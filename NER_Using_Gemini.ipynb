{
 "cells": [
  {
   "cell_type": "markdown",
   "metadata": {},
   "source": [
    "https://medium.com/@joansantoso/gemini-reshaping-the-nlp-task-for-extracting-knowledge-in-text-c0d5fdd4edd8"
   ]
  },
  {
   "cell_type": "code",
   "execution_count": null,
   "metadata": {},
   "outputs": [
    {
     "name": "stdout",
     "output_type": "stream",
     "text": [
      "Collecting python-dotenvNote: you may need to restart the kernel to use updated packages.\n",
      "\n",
      "  Downloading python_dotenv-1.0.1-py3-none-any.whl.metadata (23 kB)\n",
      "Downloading python_dotenv-1.0.1-py3-none-any.whl (19 kB)\n",
      "Installing collected packages: python-dotenv\n",
      "Successfully installed python-dotenv-1.0.1\n"
     ]
    }
   ],
   "source": [
    "#%pip install -q -U google-generativeai\n",
    "#%pip install python-dotenv"
   ]
  },
  {
   "cell_type": "code",
   "execution_count": 1,
   "metadata": {},
   "outputs": [
    {
     "name": "stderr",
     "output_type": "stream",
     "text": [
      "c:\\Users\\Uttam Kumar\\Learning\\Infomate\\VS\\.venv\\Lib\\site-packages\\tqdm\\auto.py:21: TqdmWarning: IProgress not found. Please update jupyter and ipywidgets. See https://ipywidgets.readthedocs.io/en/stable/user_install.html\n",
      "  from .autonotebook import tqdm as notebook_tqdm\n"
     ]
    }
   ],
   "source": [
    "import google.generativeai as genai\n",
    "from dotenv import load_dotenv\n",
    "import os\n",
    "\n",
    "load_dotenv()\n",
    "GOOGLE_API_KEY = os.environ.get('GOOGLE_API_KEY')\n",
    "genai.configure(api_key = GOOGLE_API_KEY)\n",
    "model = genai.GenerativeModel('gemini-pro')"
   ]
  },
  {
   "cell_type": "code",
   "execution_count": 2,
   "metadata": {},
   "outputs": [],
   "source": [
    "# Prompt for Indonesian Language\n",
    "prompt_Indonesian='''\n",
    "1.You are a Named Entity Recognition in Indonesian Language.\n",
    "2.Do some analysis to extract the Entity from the text for some categories, i.e., Movie, Games, Series, Person, Organization, Location, Date/Time, and other as Miscellaneous. \n",
    "3.Output Movie as work_of_art, Game as sports, Series as work_of_arts, Person category as PER, Organization category as ORG, Location category as LOC, Date/Time category as DT, and Miscellaneous category as MISC. \n",
    "4.Return this result as JSON for each entity with character offset from each result.\n",
    "Analyze the sentences as follow: \"'\n",
    "'''"
   ]
  },
  {
   "cell_type": "code",
   "execution_count": 3,
   "metadata": {},
   "outputs": [
    {
     "name": "stdout",
     "output_type": "stream",
     "text": [
      "```json\n",
      "[\n",
      "  {\n",
      "    \"text\": \"ISTTS\",\n",
      "    \"category\": \"ORG\",\n",
      "    \"offset\": 0,\n",
      "    \"length\": 5\n",
      "  },\n",
      "  {\n",
      "    \"text\": \"Indonesia\",\n",
      "    \"category\": \"LOC\",\n",
      "    \"offset\": 26,\n",
      "    \"length\": 8\n",
      "  },\n",
      "  {\n",
      "    \"text\": \"Surabaya\",\n",
      "    \"category\": \"LOC\",\n",
      "    \"offset\": 39,\n",
      "    \"length\": 8\n",
      "  }\n",
      "]\n",
      "```\n"
     ]
    }
   ],
   "source": [
    "query = \"ISTTS sebagai perguruan tinggi di Indonesia terletak di Surabaya\"\n",
    "response = model.generate_content(prompt_Indonesian+query +'\"')\n",
    "print(response.text)"
   ]
  },
  {
   "cell_type": "code",
   "execution_count": 4,
   "metadata": {},
   "outputs": [],
   "source": [
    "# Prompt for Any Language\n",
    "def init_prompt():\n",
    "    prompt='''\n",
    "    1.You are a Named Entity Recognition assistant supporting All regional or international Language.\n",
    "    2.Do some analysis to extract the Entity or acronym from the text given in triple backticks for some categories, i.e., Movie, Games, Series, Person, Organization, Location, Date/Time, and other as Miscellaneous.\n",
    "    3.Output Movie as work_of_art, Game as sports, Series as work_of_art, Person category as PER, Organization category as ORG, Location category as LOC, Date/Time category as DT, and Miscellaneous category as MISC.\n",
    "    4.Return this result as JSON having only category and entity name for each entity from each result.\n",
    "    5.Also, return the result always in english language. \n",
    "    Analyze the sentences as follow: \"'\n",
    "    '''\n",
    "    return prompt"
   ]
  },
  {
   "cell_type": "code",
   "execution_count": 5,
   "metadata": {},
   "outputs": [],
   "source": [
    "def get_ner_response(query):\n",
    "    prompt_template = init_prompt() + query + '\"'\n",
    "    response = model.generate_content(prompt_template)\n",
    "    return response"
   ]
  },
  {
   "cell_type": "code",
   "execution_count": 6,
   "metadata": {},
   "outputs": [
    {
     "name": "stdout",
     "output_type": "stream",
     "text": [
      "```json\n",
      "[\n",
      "  {\n",
      "    \"category\": \"work_of_art\",\n",
      "    \"entity\": \"spider-man\"\n",
      "  },\n",
      "  {\n",
      "    \"category\": \"DT\",\n",
      "    \"entity\": \"10th june 2023\"\n",
      "  }\n",
      "]\n",
      "```\n"
     ]
    }
   ],
   "source": [
    "query = \"Did you watch spider-man? posted on 10th june 2023\"\n",
    "response = get_ner_response(query)\n",
    "print(response.text)"
   ]
  },
  {
   "cell_type": "code",
   "execution_count": 7,
   "metadata": {},
   "outputs": [
    {
     "name": "stdout",
     "output_type": "stream",
     "text": [
      "```json\n",
      "[\n",
      "  {\n",
      "    \"category\": \"work_of_art\",\n",
      "    \"entity\": \"Spiderman\"\n",
      "  }\n",
      "]\n",
      "```\n"
     ]
    }
   ],
   "source": [
    "query = \"Did you watch スパイダーマン?\"\n",
    "response = get_ner_response(query)\n",
    "print(response.text)"
   ]
  },
  {
   "cell_type": "code",
   "execution_count": 106,
   "metadata": {},
   "outputs": [
    {
     "name": "stdout",
     "output_type": "stream",
     "text": [
      "```json\n",
      "[\n",
      "  {\n",
      "    \"category\": \"work_of_art\",\n",
      "    \"entity\": \"spider-man nwh\"\n",
      "  }\n",
      "]\n",
      "```\n"
     ]
    }
   ],
   "source": [
    "query = \"Did you watch spider-man nwh?\"\n",
    "response = get_ner_response(query)\n",
    "print(response.text)"
   ]
  },
  {
   "cell_type": "code",
   "execution_count": 107,
   "metadata": {},
   "outputs": [
    {
     "name": "stdout",
     "output_type": "stream",
     "text": [
      "```json\n",
      "[\n",
      "  {\n",
      "    \"category\": \"work_of_art\",\n",
      "    \"entity\": \"Spiderman 2\"\n",
      "  }\n",
      "]\n",
      "```\n"
     ]
    }
   ],
   "source": [
    "query = \"Did you watch スパイダーマン2?\"\n",
    "response = get_ner_response(query)\n",
    "print(response.text)"
   ]
  },
  {
   "cell_type": "code",
   "execution_count": 108,
   "metadata": {},
   "outputs": [
    {
     "name": "stdout",
     "output_type": "stream",
     "text": [
      "```json\n",
      "[\n",
      "  {\n",
      "    \"category\": \"work_of_art\",\n",
      "    \"entity\": \"Venom: ltbc\"\n",
      "  }\n",
      "]\n",
      "```\n"
     ]
    }
   ],
   "source": [
    "query = \"I was watching Venom: ltbc.\"\n",
    "response = get_ner_response(query)\n",
    "print(response.text)"
   ]
  },
  {
   "cell_type": "code",
   "execution_count": 110,
   "metadata": {},
   "outputs": [
    {
     "name": "stdout",
     "output_type": "stream",
     "text": [
      "```json\n",
      " [\n",
      "  {\n",
      "   \"category\": \"work_of_art\",\n",
      "   \"entity\": \"spider-man Across the Spider-Verse\"\n",
      "  }\n",
      " ]\n",
      "```\n"
     ]
    }
   ],
   "source": [
    "query = \"I loved watching spdr man across spydr verse.\"\n",
    "response = get_ner_response(query)\n",
    "print(response.text)"
   ]
  },
  {
   "cell_type": "code",
   "execution_count": 111,
   "metadata": {},
   "outputs": [
    {
     "name": "stdout",
     "output_type": "stream",
     "text": [
      "```JSON\n",
      "[\n",
      "  {\n",
      "    \"category\": \"work_of_art\",\n",
      "    \"entity\": \"Venom: Let There Be Carnage\"\n",
      "  }\n",
      "]\n",
      "```\n"
     ]
    }
   ],
   "source": [
    "query = \"Shall we watch Venom: Let There Be Carnage?\"\n",
    "response = get_ner_response(query)\n",
    "print(response.text)"
   ]
  },
  {
   "cell_type": "code",
   "execution_count": 112,
   "metadata": {},
   "outputs": [
    {
     "name": "stdout",
     "output_type": "stream",
     "text": [
      "```json\n",
      "[\n",
      "  {\n",
      "    \"category\": \"sports\",\n",
      "    \"entity\": \"Call of Duty\"\n",
      "  }\n",
      "]\n",
      "```\n"
     ]
    }
   ],
   "source": [
    "query = \"I like to play cod.\"\n",
    "response = get_ner_response(query)\n",
    "print(response.text)"
   ]
  },
  {
   "cell_type": "code",
   "execution_count": null,
   "metadata": {},
   "outputs": [],
   "source": []
  }
 ],
 "metadata": {
  "kernelspec": {
   "display_name": ".venv",
   "language": "python",
   "name": "python3"
  },
  "language_info": {
   "codemirror_mode": {
    "name": "ipython",
    "version": 3
   },
   "file_extension": ".py",
   "mimetype": "text/x-python",
   "name": "python",
   "nbconvert_exporter": "python",
   "pygments_lexer": "ipython3",
   "version": "3.11.0"
  }
 },
 "nbformat": 4,
 "nbformat_minor": 2
}
