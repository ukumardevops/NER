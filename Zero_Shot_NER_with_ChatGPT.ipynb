{
 "cells": [
  {
   "cell_type": "markdown",
   "metadata": {},
   "source": [
    "https://github.com/karndeepsingh/ApplicationsBuildWithLLMs/blob/main/Zero_Shot_NER_with_ChatGPT.ipynb"
   ]
  },
  {
   "cell_type": "code",
   "execution_count": 1,
   "metadata": {},
   "outputs": [
    {
     "name": "stdout",
     "output_type": "stream",
     "text": [
      "Requirement already satisfied: openai in c:\\users\\uttam kumar\\learning\\infomate\\vs\\.venv\\lib\\site-packages (0.27.0)\n",
      "Collecting openai\n",
      "  Downloading openai-1.57.0-py3-none-any.whl.metadata (24 kB)\n",
      "Requirement already satisfied: anyio<5,>=3.5.0 in c:\\users\\uttam kumar\\learning\\infomate\\vs\\.venv\\lib\\site-packages (from openai) (3.7.1)\n",
      "Requirement already satisfied: distro<2,>=1.7.0 in c:\\users\\uttam kumar\\learning\\infomate\\vs\\.venv\\lib\\site-packages (from openai) (1.9.0)\n",
      "Requirement already satisfied: httpx<1,>=0.23.0 in c:\\users\\uttam kumar\\learning\\infomate\\vs\\.venv\\lib\\site-packages (from openai) (0.27.2)\n",
      "Requirement already satisfied: jiter<1,>=0.4.0 in c:\\users\\uttam kumar\\learning\\infomate\\vs\\.venv\\lib\\site-packages (from openai) (0.7.1)\n",
      "Requirement already satisfied: pydantic<3,>=1.9.0 in c:\\users\\uttam kumar\\learning\\infomate\\vs\\.venv\\lib\\site-packages (from openai) (1.10.19)\n",
      "Requirement already satisfied: sniffio in c:\\users\\uttam kumar\\learning\\infomate\\vs\\.venv\\lib\\site-packages (from openai) (1.3.1)\n",
      "Requirement already satisfied: tqdm>4 in c:\\users\\uttam kumar\\learning\\infomate\\vs\\.venv\\lib\\site-packages (from openai) (4.67.1)\n",
      "Requirement already satisfied: typing-extensions<5,>=4.11 in c:\\users\\uttam kumar\\learning\\infomate\\vs\\.venv\\lib\\site-packages (from openai) (4.12.2)\n",
      "Requirement already satisfied: idna>=2.8 in c:\\users\\uttam kumar\\learning\\infomate\\vs\\.venv\\lib\\site-packages (from anyio<5,>=3.5.0->openai) (3.10)\n",
      "Requirement already satisfied: certifi in c:\\users\\uttam kumar\\learning\\infomate\\vs\\.venv\\lib\\site-packages (from httpx<1,>=0.23.0->openai) (2024.8.30)\n",
      "Requirement already satisfied: httpcore==1.* in c:\\users\\uttam kumar\\learning\\infomate\\vs\\.venv\\lib\\site-packages (from httpx<1,>=0.23.0->openai) (1.0.7)\n",
      "Requirement already satisfied: h11<0.15,>=0.13 in c:\\users\\uttam kumar\\learning\\infomate\\vs\\.venv\\lib\\site-packages (from httpcore==1.*->httpx<1,>=0.23.0->openai) (0.14.0)\n",
      "Requirement already satisfied: colorama in c:\\users\\uttam kumar\\learning\\infomate\\vs\\.venv\\lib\\site-packages (from tqdm>4->openai) (0.4.6)\n",
      "Downloading openai-1.57.0-py3-none-any.whl (389 kB)\n",
      "Installing collected packages: openai\n",
      "  Attempting uninstall: openai\n",
      "    Found existing installation: openai 0.27.0\n",
      "    Uninstalling openai-0.27.0:\n",
      "      Successfully uninstalled openai-0.27.0\n",
      "Successfully installed openai-1.57.0\n",
      "Note: you may need to restart the kernel to use updated packages.\n"
     ]
    },
    {
     "name": "stderr",
     "output_type": "stream",
     "text": [
      "ERROR: pip's dependency resolver does not currently take into account all the packages that are installed. This behaviour is the source of the following dependency conflicts.\n",
      "promptify 2.0.3 requires huggingface_hub==0.12, but you have huggingface-hub 0.26.3 which is incompatible.\n",
      "promptify 2.0.3 requires openai==0.27.0, but you have openai 1.57.0 which is incompatible.\n",
      "promptify 2.0.3 requires tqdm==4.65.0, but you have tqdm 4.67.1 which is incompatible.\n"
     ]
    }
   ],
   "source": [
    "%pip install --upgrade openai"
   ]
  },
  {
   "cell_type": "code",
   "execution_count": 2,
   "metadata": {},
   "outputs": [],
   "source": [
    "import openai\n",
    "import os\n",
    "import re\n",
    "import ast\n",
    "from dotenv import load_dotenv\n",
    "\n",
    "load_dotenv()\n",
    "OPENAI_API_KEY = os.environ.get('OPENAI_API_KEY')\n",
    "\n",
    "openai.api_key = OPENAI_API_KEY"
   ]
  },
  {
   "cell_type": "code",
   "execution_count": null,
   "metadata": {},
   "outputs": [],
   "source": [
    "SYSTEM_PROMPT = \"You are a smart and intelligent Named Entity Recognition (NER) system. I will provide you the definition of the entities you need to extract and the sentence from which you need to extract the entities and the output in given format with examples.\"\n",
    "\n",
    "USER_PROMPT_1 = \"Are you clear about your role?\"\n",
    "\n",
    "ASSISTANT_PROMPT_1 = \"Sure, I'm ready to help you with your NER task. Please provide me with the necessary information to get started.\"\n",
    "\n",
    "PROMPT = (\n",
    "    \"Entity Definition:\\n\"\n",
    "    \"1. PERSON: Short name or full name of a person from any geographic regions.\\n\"\n",
    "    \"2. DATE: Any format of dates. Dates can also be in natural language.\\n\"\n",
    "    \"3. LOC: Name of any geographic location, like cities, countries, continents, districts etc.\\n\"\n",
    "    \"4. ORG: Name of the companies like Google, samsung, Apple etc.\\n\"\n",
    "    \"5. NUMBERS: Numerical entites which are numerically present or mentioned in words like 7000, half of dozen etc.\\n\"\n",
    "    \"6. WORK_OF_ART: Acronym or full name of Movie, Series like Spider-man, Venom ltbc etc. \\n\"\n",
    "    \"7. SPORTS: Acronym or full name of Game like cod, pubg etc. \\n\"\n",
    "    \"\\n\"\n",
    "    \"Output Format:\\n\"\n",
    "    \"{{'WORK_OF_ART': [list of entities present], 'SPORTS': [list of entities present], 'PERSON': [list of entities present], 'DATE': [list of entities present], 'LOC': [list of entities present],'ORG': [list of entities present],'NUMBERS': [list of entities present]}}\\n\"\n",
    "    \"If no entities are presented in any categories keep it None\\n\"\n",
    "    \"\\n\"\n",
    "    \"Examples:\\n\"\n",
    "    \"\\n\"\n",
    "    \"1. Sentence: USA and India are friends. G20 summit going to held in India in September 2023. Indian Prime Minister Narendra Modi will be hosting it and TATA will be giving charity of $150 Million.\\n\"\n",
    "    \"Output: {{'WORK_OF_ART': ['None'], 'SPORTS': ['None'], 'PERSON': ['Narendra Modi'], 'DATE': ['September 2023'], 'LOC': ['USA','India','India'],'ORG':['TATA'],'NUMBERS':['150 Million']}}\\n\"\n",
    "    \"\\n\"\n",
    "    \"2. Sentence: Mr.John and Sunita Roy are friends and they meet each other on 24/03/1998 in Samsung while they were co-workers and shared Rs.8000 in exchange for some work.\\n\"\n",
    "    \"Output: {{'WORK_OF_ART': ['None'], 'SPORTS': ['None'], 'PERSON': ['Mr. John', 'Sunita Roy'], 'DATE': ['24/03/1998'], 'LOC': ['None'],'ORG':['Samsung'],'NUMBERS':['8000']}}\\n\"\n",
    "    \"\\n\"\n",
    "    \"3. Sentence: Do you like Spider-man?\\n\"\n",
    "    \"Output: {{'WORK_OF_ART': ['Spider-man'], 'SPORTS': ['None'], 'PERSON': ['None'], 'DATE': ['None'], 'LOC': ['None'],'ORG':['None'],'NUMBERS':['None']}}\\n\"\n",
    "    \"\\n\"\n",
    "    \"4. Sentence: I love to play cod.\\n\"\n",
    "    \"Output: {{'WORK_OF_ART': ['None'], 'SPORTS': ['cod'], 'PERSON': ['Mr. John', 'Sunita Roy'], 'DATE': ['24/03/1998'], 'LOC': ['None'],'ORG':['Samsung'],'NUMBERS':['8000']}}\\n\"\n",
    "    \"\\n\"\n",
    "    \"5. Sentence: {}\\n\"\n",
    "    \"Output: \"\n",
    ")"
   ]
  },
  {
   "cell_type": "code",
   "execution_count": 4,
   "metadata": {},
   "outputs": [],
   "source": [
    "def openai_chat_completion_response(final_prompt):\n",
    "  response = openai.ChatCompletion.create(\n",
    "              model=\"gpt-3.5-turbo\",\n",
    "              messages=[\n",
    "                    {\"role\": \"system\", \"content\": SYSTEM_PROMPT},\n",
    "                    {\"role\": \"user\", \"content\": USER_PROMPT_1},\n",
    "                    {\"role\": \"assistant\", \"content\": ASSISTANT_PROMPT_1},\n",
    "                    {\"role\": \"user\", \"content\": final_prompt}\n",
    "                ]\n",
    "            )\n",
    "\n",
    "  return response['choices'][0]['message']['content'].strip(\" \\n\")"
   ]
  },
  {
   "cell_type": "code",
   "execution_count": 5,
   "metadata": {},
   "outputs": [],
   "source": [
    "my_sentence = \"\"\"William Henry Gates III (born October 28, 1955) is an American business magnate, software developer, investor, and philanthropist. He is best known as the co-founder of Microsoft Corporation. During his career at Microsoft, Gates held the positions of chairman, chief executive officer (CEO), president and chief software architect, while also being the largest individual shareholder until May 2014. He is one of the best-known entrepreneurs and pioneers of the microcomputer revolution of the 1970s and 1980s. Born and raised in Seattle, Washington, Gates co-founded Microsoft with childhood friend Paul Allen in 1975, in Albuquerque, New Mexico; it went on to become the world's largest personal computer software company. Gates led the company as chairman and CEO until stepping down as CEO in January 2000, but he remained chairman and became chief software architect. During the late 1990s, Gates had been criticized for his business tactics, which have been considered anti-competitive. This opinion has been upheld by numerous court rulings. In June 2006, Gates announced that he would be transitioning to a part-time role at Microsoft and full-time work at the Bill & Melinda Gates Foundation, the private charitable foundation that he and his wife, Melinda Gates, established in 2000.[9] He gradually transferred his duties to Ray Ozzie and Craig Mundie. He stepped down as chairman of Microsoft in February 2014 and assumed a new post as technology adviser to support the newly appointed CEO Satya Nadella.\"\"\"\n"
   ]
  },
  {
   "cell_type": "code",
   "execution_count": null,
   "metadata": {},
   "outputs": [],
   "source": [
    "PROMPT = PROMPT.format(my_sentence)\n",
    "ners = openai_chat_completion_response(PROMPT)\n",
    "ners"
   ]
  }
 ],
 "metadata": {
  "kernelspec": {
   "display_name": ".venv",
   "language": "python",
   "name": "python3"
  },
  "language_info": {
   "codemirror_mode": {
    "name": "ipython",
    "version": 3
   },
   "file_extension": ".py",
   "mimetype": "text/x-python",
   "name": "python",
   "nbconvert_exporter": "python",
   "pygments_lexer": "ipython3",
   "version": "3.11.0"
  }
 },
 "nbformat": 4,
 "nbformat_minor": 2
}
